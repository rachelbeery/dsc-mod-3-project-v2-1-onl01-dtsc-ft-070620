{
 "cells": [
  {
   "cell_type": "markdown",
   "metadata": {},
   "source": [
    "## Module 3 Final Project Submission\n",
    "\n",
    "Please fill out:\n",
    "* Student name: Rachel Beery\n",
    "* Student pace: Full Time\n",
    "* Scheduled project review date/time: \n",
    "* Instructor name: Rafael\n",
    "* Blog post URL:\n"
   ]
  },
  {
   "cell_type": "markdown",
   "metadata": {},
   "source": [
    "__Background:__ In Terry v. Ohio, a landmark Supreme Court case in 1967-8, the court found that a police officer was not in violation of the \"unreasonable search and seizure\" clause of the Fourth Amendment, even though he stopped and frisked a couple of suspects only because their behavior was suspicious.\n",
    "\n",
    "Thus was born the notion of \"reasonable suspicion\", according to which an agent of the police may e.g. temporarily detain a person, even in the absence of clearer evidence that would be required for full-blown arrests etc. Terry Stops are stops made of suspicious drivers.\n",
    "\n",
    "__Objective:__ I will be building a classifier to predict whether an arrest was made after a Terry Stop. \n",
    "\n",
    "__Aprroach:__ The OSEUMiN data science workflow is utilized to effectively build a classifier to predict whether an arrest was made after a Terry Stop, given information about the presence of weapons, the time of day of the call, etc. Note that this is a binary classification problem. We will also be analyzing whether race (of officer or of subject) plays a role in whether or not an arrest is made.\n",
    "\n",
    "__Data:__ In my project I will be utilizing the Terry Traffic Stops dataset that was provided by Flatiron School. The data set can be downloaded from the following website: https://catalog.data.gov/dataset/terry-stops"
   ]
  },
  {
   "cell_type": "markdown",
   "metadata": {},
   "source": [
    "# Data Frame Column Descriptions"
   ]
  },
  {
   "cell_type": "markdown",
   "metadata": {},
   "source": [
    "- __Subject Age Group:__ Subject Age Group (10 year increments) as reported by the officer. \n",
    "\n",
    "- __Subject ID:__ Key, generated daily, identifying unique subjects in the dataset using a character to character match of first name and last name. \"Null\" values indicate an \"anonymous\" or \"unidentified\" subject. Subjects of a Terry Stop are not required to present identification. \n",
    "\n",
    "- __GO / SC Num:__ General Offense or Street Check number, relating the Terry Stop to the parent report. This field may have a one to many relationship in the data. \n",
    "\n",
    "- __Terry Stop ID:__ Key identifying unique Terry Stop reports. \n",
    "\n",
    "- __Stop Resolution:__ Resolution of the stop as reported by the officer. \n",
    "\n",
    "- __Weapon Type:__ Type of weapon, if any, identified during a search or frisk of the subject. Indicates \"None\" if no weapons was found. \n",
    "\n",
    "- __Officer ID:__ Key identifying unique officers in the dataset. \n",
    "\n",
    "- __Officer YOB:__ Year of birth, as reported by the officer. \n",
    "\n",
    "- __Officer Gender:__ Gender of the officer, as reported by the officer. \n",
    "\n",
    "- __Officer Race:__ Race of the officer, as reported by the officer. \n",
    "\n",
    "- __Subject Perceived Race:__ Perceived race of the subject, as reported by the officer. \n",
    "\n",
    "- __Subject Perceived Gender:__ Perceived gender of the subject, as reported by the officer. \n",
    "\n",
    "- __Reported Date:__ Date the report was filed in the Records Management System (RMS). Not necessarily the date the stop occurred but generally within 1 day. \n",
    "\n",
    "- __Reported Time:__ Time the stop was reported in the Records Management System (RMS). Not the time the stop occurred but generally within 10 hours. \n",
    "\n",
    "- __Initial Call Type:__ Initial classification of the call as assigned by 911. \n",
    "\n",
    "- __Final Call Type:__ Final classification of the call as assigned by the primary officer closing the event. \n",
    "\n",
    "- __Call Type:__ How the call was received by the communication center. \n",
    "\n",
    "- __Officer Squad:__ Functional squad assignment (not budget) of the officer as reported by the Data Analytics Platform (DAP). \n",
    "\n",
    "- __Arrest Flag:__ Indicator of whether a \"physical arrest\" was made, of the subject, during the Terry Stop. Does not necessarily reflect a report of an arrest in the Records Management System (RMS). \n",
    "\n",
    "- __Frisk Flag:__ Indicator of whether a \"frisk\" was conducted, by the officer, of the subject, during the Terry Stop. \n",
    "\n",
    "- __Precinct:__ Precinct of the address associated with the underlying Computer Aided Dispatch (CAD) event. Not necessarily where the Terry Stop occurred. \n",
    "\n",
    "- __Sector:__ Sector of the address associated with the underlying Computer Aided Dispatch (CAD) event. Not necessarily where the Terry Stop occurred. \n",
    "\n",
    "- __Beat:__ Beat of the address associated with the underlying Computer Aided Dispatch (CAD) event. Not necessarily where the Terry Stop occurred."
   ]
  },
  {
   "cell_type": "markdown",
   "metadata": {},
   "source": [
    "# Current questions I have?\n",
    "1. What officer demographics influence policing including arrests?\n",
    "- Does gender have an influence on certain arrests/stops?\n",
    "- Using a machine learning model can we find what feature has the most influence on an arrest?"
   ]
  },
  {
   "cell_type": "code",
   "execution_count": 1,
   "metadata": {},
   "outputs": [],
   "source": [
    "# We will begin by importing all of the packages we anticipate to use\n",
    "import pandas as pd\n",
    "import seaborn as sns\n",
    "import numpy as np\n",
    "import matplotlib.pyplot as plt\n",
    "%matplotlib inline\n",
    "import matplotlib.ticker as mtick\n",
    "import plotly.express as px\n",
    "import math\n",
    "import scipy.stats as stats\n",
    "from scipy import stats\n",
    "import missingno as ms\n",
    "import statsmodels.api as sm\n",
    "import statsmodels.formula.api as smf\n",
    "from statsmodels.stats.outliers_influence import variance_inflation_factor\n",
    "\n",
    "# Everything sklearn!\n",
    "from sklearn.preprocessing import StandardScaler\n",
    "from sklearn.model_selection import train_test_split, cross_val_score\n",
    "from sklearn.ensemble import RandomForestRegressor, RandomForestClassifier\n",
    "from sklearn.metrics import mean_squared_error, make_scorer, roc_auc_score, r2_score\n",
    "from sklearn.linear_model import LinearRegression, LogisticRegression\n",
    "from sklearn.feature_selection import VarianceThreshold, SelectFromModel"
   ]
  },
  {
   "cell_type": "code",
   "execution_count": 2,
   "metadata": {},
   "outputs": [],
   "source": [
    "# Setting the display defaults\n",
    "pd.set_option('display.max_columns', 0)\n",
    "# pd.set_option('display.max_rows',)\n",
    "\n",
    "# Turning off scientific notation in pandas\n",
    "pd.set_option('display.float_format', lambda x: '%.3f' % x)"
   ]
  },
  {
   "cell_type": "code",
   "execution_count": 3,
   "metadata": {},
   "outputs": [
    {
     "data": {
      "text/html": [
       "<div>\n",
       "<style scoped>\n",
       "    .dataframe tbody tr th:only-of-type {\n",
       "        vertical-align: middle;\n",
       "    }\n",
       "\n",
       "    .dataframe tbody tr th {\n",
       "        vertical-align: top;\n",
       "    }\n",
       "\n",
       "    .dataframe thead th {\n",
       "        text-align: right;\n",
       "    }\n",
       "</style>\n",
       "<table border=\"1\" class=\"dataframe\">\n",
       "  <thead>\n",
       "    <tr style=\"text-align: right;\">\n",
       "      <th></th>\n",
       "      <th>Subject Age Group</th>\n",
       "      <th>Subject ID</th>\n",
       "      <th>GO / SC Num</th>\n",
       "      <th>Terry Stop ID</th>\n",
       "      <th>Stop Resolution</th>\n",
       "      <th>Weapon Type</th>\n",
       "      <th>Officer ID</th>\n",
       "      <th>Officer YOB</th>\n",
       "      <th>Officer Gender</th>\n",
       "      <th>Officer Race</th>\n",
       "      <th>Subject Perceived Race</th>\n",
       "      <th>Subject Perceived Gender</th>\n",
       "      <th>Reported Date</th>\n",
       "      <th>Reported Time</th>\n",
       "      <th>Initial Call Type</th>\n",
       "      <th>Final Call Type</th>\n",
       "      <th>Call Type</th>\n",
       "      <th>Officer Squad</th>\n",
       "      <th>Arrest Flag</th>\n",
       "      <th>Frisk Flag</th>\n",
       "      <th>Precinct</th>\n",
       "      <th>Sector</th>\n",
       "      <th>Beat</th>\n",
       "    </tr>\n",
       "  </thead>\n",
       "  <tbody>\n",
       "    <tr>\n",
       "      <td>0</td>\n",
       "      <td>-</td>\n",
       "      <td>-1</td>\n",
       "      <td>20140000120677</td>\n",
       "      <td>92317</td>\n",
       "      <td>Arrest</td>\n",
       "      <td>None</td>\n",
       "      <td>7500</td>\n",
       "      <td>1984</td>\n",
       "      <td>M</td>\n",
       "      <td>Black or African American</td>\n",
       "      <td>Asian</td>\n",
       "      <td>Male</td>\n",
       "      <td>2015-10-16T00:00:00</td>\n",
       "      <td>11:32:00</td>\n",
       "      <td>-</td>\n",
       "      <td>-</td>\n",
       "      <td>-</td>\n",
       "      <td>SOUTH PCT 1ST W - ROBERT</td>\n",
       "      <td>N</td>\n",
       "      <td>N</td>\n",
       "      <td>South</td>\n",
       "      <td>O</td>\n",
       "      <td>O2</td>\n",
       "    </tr>\n",
       "    <tr>\n",
       "      <td>1</td>\n",
       "      <td>-</td>\n",
       "      <td>-1</td>\n",
       "      <td>20150000001463</td>\n",
       "      <td>28806</td>\n",
       "      <td>Field Contact</td>\n",
       "      <td>None</td>\n",
       "      <td>5670</td>\n",
       "      <td>1965</td>\n",
       "      <td>M</td>\n",
       "      <td>White</td>\n",
       "      <td>-</td>\n",
       "      <td>-</td>\n",
       "      <td>2015-03-19T00:00:00</td>\n",
       "      <td>07:59:00</td>\n",
       "      <td>-</td>\n",
       "      <td>-</td>\n",
       "      <td>-</td>\n",
       "      <td>NaN</td>\n",
       "      <td>N</td>\n",
       "      <td>N</td>\n",
       "      <td>-</td>\n",
       "      <td>-</td>\n",
       "      <td>-</td>\n",
       "    </tr>\n",
       "    <tr>\n",
       "      <td>2</td>\n",
       "      <td>-</td>\n",
       "      <td>-1</td>\n",
       "      <td>20150000001516</td>\n",
       "      <td>29599</td>\n",
       "      <td>Field Contact</td>\n",
       "      <td>None</td>\n",
       "      <td>4844</td>\n",
       "      <td>1961</td>\n",
       "      <td>M</td>\n",
       "      <td>White</td>\n",
       "      <td>White</td>\n",
       "      <td>Male</td>\n",
       "      <td>2015-03-21T00:00:00</td>\n",
       "      <td>19:12:00</td>\n",
       "      <td>-</td>\n",
       "      <td>-</td>\n",
       "      <td>-</td>\n",
       "      <td>NaN</td>\n",
       "      <td>N</td>\n",
       "      <td>-</td>\n",
       "      <td>-</td>\n",
       "      <td>-</td>\n",
       "      <td>-</td>\n",
       "    </tr>\n",
       "    <tr>\n",
       "      <td>3</td>\n",
       "      <td>-</td>\n",
       "      <td>-1</td>\n",
       "      <td>20150000001670</td>\n",
       "      <td>32260</td>\n",
       "      <td>Field Contact</td>\n",
       "      <td>None</td>\n",
       "      <td>7539</td>\n",
       "      <td>1963</td>\n",
       "      <td>M</td>\n",
       "      <td>White</td>\n",
       "      <td>-</td>\n",
       "      <td>-</td>\n",
       "      <td>2015-04-01T00:00:00</td>\n",
       "      <td>04:55:00</td>\n",
       "      <td>-</td>\n",
       "      <td>-</td>\n",
       "      <td>-</td>\n",
       "      <td>NaN</td>\n",
       "      <td>N</td>\n",
       "      <td>N</td>\n",
       "      <td>-</td>\n",
       "      <td>-</td>\n",
       "      <td>-</td>\n",
       "    </tr>\n",
       "    <tr>\n",
       "      <td>4</td>\n",
       "      <td>-</td>\n",
       "      <td>-1</td>\n",
       "      <td>20150000001739</td>\n",
       "      <td>33155</td>\n",
       "      <td>Field Contact</td>\n",
       "      <td>None</td>\n",
       "      <td>6973</td>\n",
       "      <td>1977</td>\n",
       "      <td>M</td>\n",
       "      <td>White</td>\n",
       "      <td>Black or African American</td>\n",
       "      <td>Male</td>\n",
       "      <td>2015-04-03T00:00:00</td>\n",
       "      <td>00:41:00</td>\n",
       "      <td>-</td>\n",
       "      <td>-</td>\n",
       "      <td>-</td>\n",
       "      <td>NaN</td>\n",
       "      <td>N</td>\n",
       "      <td>N</td>\n",
       "      <td>-</td>\n",
       "      <td>-</td>\n",
       "      <td>-</td>\n",
       "    </tr>\n",
       "  </tbody>\n",
       "</table>\n",
       "</div>"
      ],
      "text/plain": [
       "  Subject Age Group  Subject ID     GO / SC Num  ...  Precinct  Sector    Beat\n",
       "0                 -          -1  20140000120677  ...     South  O       O2    \n",
       "1                 -          -1  20150000001463  ...         -       -       -\n",
       "2                 -          -1  20150000001516  ...         -       -       -\n",
       "3                 -          -1  20150000001670  ...         -       -       -\n",
       "4                 -          -1  20150000001739  ...         -       -       -\n",
       "\n",
       "[5 rows x 23 columns]"
      ]
     },
     "execution_count": 3,
     "metadata": {},
     "output_type": "execute_result"
    }
   ],
   "source": [
    "#Import data and see the headers\n",
    "df = pd.read_csv(r\"Terry_Stops.csv\")\n",
    "df.head()"
   ]
  },
  {
   "cell_type": "code",
   "execution_count": 4,
   "metadata": {},
   "outputs": [
    {
     "data": {
      "text/plain": [
       "(44838, 23)"
      ]
     },
     "execution_count": 4,
     "metadata": {},
     "output_type": "execute_result"
    }
   ],
   "source": [
    "# How big is this dataset?\n",
    "df.shape"
   ]
  },
  {
   "cell_type": "code",
   "execution_count": 5,
   "metadata": {
    "scrolled": true
   },
   "outputs": [
    {
     "name": "stdout",
     "output_type": "stream",
     "text": [
      "<class 'pandas.core.frame.DataFrame'>\n",
      "RangeIndex: 44838 entries, 0 to 44837\n",
      "Data columns (total 23 columns):\n",
      "Subject Age Group           44838 non-null object\n",
      "Subject ID                  44838 non-null int64\n",
      "GO / SC Num                 44838 non-null int64\n",
      "Terry Stop ID               44838 non-null int64\n",
      "Stop Resolution             44838 non-null object\n",
      "Weapon Type                 44838 non-null object\n",
      "Officer ID                  44838 non-null object\n",
      "Officer YOB                 44838 non-null int64\n",
      "Officer Gender              44838 non-null object\n",
      "Officer Race                44838 non-null object\n",
      "Subject Perceived Race      44838 non-null object\n",
      "Subject Perceived Gender    44838 non-null object\n",
      "Reported Date               44838 non-null object\n",
      "Reported Time               44838 non-null object\n",
      "Initial Call Type           44838 non-null object\n",
      "Final Call Type             44838 non-null object\n",
      "Call Type                   44838 non-null object\n",
      "Officer Squad               44258 non-null object\n",
      "Arrest Flag                 44838 non-null object\n",
      "Frisk Flag                  44838 non-null object\n",
      "Precinct                    44838 non-null object\n",
      "Sector                      44838 non-null object\n",
      "Beat                        44838 non-null object\n",
      "dtypes: int64(4), object(19)\n",
      "memory usage: 7.9+ MB\n"
     ]
    }
   ],
   "source": [
    "# Looking at our columns and seeing what data types they are\n",
    "df.info()"
   ]
  },
  {
   "cell_type": "code",
   "execution_count": 6,
   "metadata": {
    "scrolled": true
   },
   "outputs": [
    {
     "data": {
      "text/html": [
       "<div>\n",
       "<style scoped>\n",
       "    .dataframe tbody tr th:only-of-type {\n",
       "        vertical-align: middle;\n",
       "    }\n",
       "\n",
       "    .dataframe tbody tr th {\n",
       "        vertical-align: top;\n",
       "    }\n",
       "\n",
       "    .dataframe thead th {\n",
       "        text-align: right;\n",
       "    }\n",
       "</style>\n",
       "<table border=\"1\" class=\"dataframe\">\n",
       "  <thead>\n",
       "    <tr style=\"text-align: right;\">\n",
       "      <th></th>\n",
       "      <th>Subject ID</th>\n",
       "      <th>GO / SC Num</th>\n",
       "      <th>Terry Stop ID</th>\n",
       "      <th>Officer YOB</th>\n",
       "    </tr>\n",
       "  </thead>\n",
       "  <tbody>\n",
       "    <tr>\n",
       "      <td>count</td>\n",
       "      <td>44838.000</td>\n",
       "      <td>44838.000</td>\n",
       "      <td>44838.000</td>\n",
       "      <td>44838.000</td>\n",
       "    </tr>\n",
       "    <tr>\n",
       "      <td>mean</td>\n",
       "      <td>2048175291.344</td>\n",
       "      <td>20174348941910.688</td>\n",
       "      <td>2744795110.441</td>\n",
       "      <td>1982.669</td>\n",
       "    </tr>\n",
       "    <tr>\n",
       "      <td>std</td>\n",
       "      <td>3929607679.159</td>\n",
       "      <td>16285901271.067</td>\n",
       "      <td>5137079881.459</td>\n",
       "      <td>9.293</td>\n",
       "    </tr>\n",
       "    <tr>\n",
       "      <td>min</td>\n",
       "      <td>-1.000</td>\n",
       "      <td>20090000228667.000</td>\n",
       "      <td>28020.000</td>\n",
       "      <td>1900.000</td>\n",
       "    </tr>\n",
       "    <tr>\n",
       "      <td>25%</td>\n",
       "      <td>-1.000</td>\n",
       "      <td>20160000114011.500</td>\n",
       "      <td>173327.250</td>\n",
       "      <td>1978.000</td>\n",
       "    </tr>\n",
       "    <tr>\n",
       "      <td>50%</td>\n",
       "      <td>-1.000</td>\n",
       "      <td>20180000000168.500</td>\n",
       "      <td>386616.000</td>\n",
       "      <td>1985.000</td>\n",
       "    </tr>\n",
       "    <tr>\n",
       "      <td>75%</td>\n",
       "      <td>-1.000</td>\n",
       "      <td>20190000106221.000</td>\n",
       "      <td>550190.000</td>\n",
       "      <td>1989.000</td>\n",
       "    </tr>\n",
       "    <tr>\n",
       "      <td>max</td>\n",
       "      <td>17551785130.000</td>\n",
       "      <td>20200000314486.000</td>\n",
       "      <td>17551783994.000</td>\n",
       "      <td>1997.000</td>\n",
       "    </tr>\n",
       "  </tbody>\n",
       "</table>\n",
       "</div>"
      ],
      "text/plain": [
       "           Subject ID        GO / SC Num   Terry Stop ID  Officer YOB\n",
       "count       44838.000          44838.000       44838.000    44838.000\n",
       "mean   2048175291.344 20174348941910.688  2744795110.441     1982.669\n",
       "std    3929607679.159    16285901271.067  5137079881.459        9.293\n",
       "min            -1.000 20090000228667.000       28020.000     1900.000\n",
       "25%            -1.000 20160000114011.500      173327.250     1978.000\n",
       "50%            -1.000 20180000000168.500      386616.000     1985.000\n",
       "75%            -1.000 20190000106221.000      550190.000     1989.000\n",
       "max   17551785130.000 20200000314486.000 17551783994.000     1997.000"
      ]
     },
     "execution_count": 6,
     "metadata": {},
     "output_type": "execute_result"
    }
   ],
   "source": [
    "df.describe()"
   ]
  },
  {
   "cell_type": "code",
   "execution_count": 7,
   "metadata": {
    "scrolled": true
   },
   "outputs": [
    {
     "data": {
      "text/plain": [
       "Subject Age Group             0\n",
       "Subject ID                    0\n",
       "GO / SC Num                   0\n",
       "Terry Stop ID                 0\n",
       "Stop Resolution               0\n",
       "Weapon Type                   0\n",
       "Officer ID                    0\n",
       "Officer YOB                   0\n",
       "Officer Gender                0\n",
       "Officer Race                  0\n",
       "Subject Perceived Race        0\n",
       "Subject Perceived Gender      0\n",
       "Reported Date                 0\n",
       "Reported Time                 0\n",
       "Initial Call Type             0\n",
       "Final Call Type               0\n",
       "Call Type                     0\n",
       "Officer Squad               580\n",
       "Arrest Flag                   0\n",
       "Frisk Flag                    0\n",
       "Precinct                      0\n",
       "Sector                        0\n",
       "Beat                          0\n",
       "dtype: int64"
      ]
     },
     "execution_count": 7,
     "metadata": {},
     "output_type": "execute_result"
    }
   ],
   "source": [
    "# Let's find those missing values\n",
    "df.isna().sum()"
   ]
  },
  {
   "cell_type": "code",
   "execution_count": 8,
   "metadata": {
    "scrolled": true
   },
   "outputs": [
    {
     "name": "stdout",
     "output_type": "stream",
     "text": [
      "0\n"
     ]
    },
    {
     "data": {
      "text/html": [
       "<div>\n",
       "<style scoped>\n",
       "    .dataframe tbody tr th:only-of-type {\n",
       "        vertical-align: middle;\n",
       "    }\n",
       "\n",
       "    .dataframe tbody tr th {\n",
       "        vertical-align: top;\n",
       "    }\n",
       "\n",
       "    .dataframe thead th {\n",
       "        text-align: right;\n",
       "    }\n",
       "</style>\n",
       "<table border=\"1\" class=\"dataframe\">\n",
       "  <thead>\n",
       "    <tr style=\"text-align: right;\">\n",
       "      <th></th>\n",
       "      <th>Subject Age Group</th>\n",
       "      <th>Subject ID</th>\n",
       "      <th>GO / SC Num</th>\n",
       "      <th>Terry Stop ID</th>\n",
       "      <th>Stop Resolution</th>\n",
       "      <th>Weapon Type</th>\n",
       "      <th>Officer ID</th>\n",
       "      <th>Officer YOB</th>\n",
       "      <th>Officer Gender</th>\n",
       "      <th>Officer Race</th>\n",
       "      <th>Subject Perceived Race</th>\n",
       "      <th>Subject Perceived Gender</th>\n",
       "      <th>Reported Date</th>\n",
       "      <th>Reported Time</th>\n",
       "      <th>Initial Call Type</th>\n",
       "      <th>Final Call Type</th>\n",
       "      <th>Call Type</th>\n",
       "      <th>Officer Squad</th>\n",
       "      <th>Arrest Flag</th>\n",
       "      <th>Frisk Flag</th>\n",
       "      <th>Precinct</th>\n",
       "      <th>Sector</th>\n",
       "      <th>Beat</th>\n",
       "    </tr>\n",
       "  </thead>\n",
       "  <tbody>\n",
       "  </tbody>\n",
       "</table>\n",
       "</div>"
      ],
      "text/plain": [
       "Empty DataFrame\n",
       "Columns: [Subject Age Group, Subject ID, GO / SC Num, Terry Stop ID, Stop Resolution, Weapon Type, Officer ID, Officer YOB, Officer Gender, Officer Race, Subject Perceived Race, Subject Perceived Gender, Reported Date, Reported Time, Initial Call Type, Final Call Type, Call Type, Officer Squad, Arrest Flag, Frisk Flag, Precinct, Sector, Beat]\n",
       "Index: []"
      ]
     },
     "execution_count": 8,
     "metadata": {},
     "output_type": "execute_result"
    }
   ],
   "source": [
    "# Are there Duplicate Rows??\n",
    "duplicates = df[df.duplicated()]\n",
    "print(len(duplicates))\n",
    "duplicates.head()\n",
    "# Looks like we don't have any or they are hiding"
   ]
  },
  {
   "cell_type": "code",
   "execution_count": 9,
   "metadata": {
    "scrolled": true
   },
   "outputs": [
    {
     "data": {
      "text/plain": [
       "(4, -0.5)"
      ]
     },
     "execution_count": 9,
     "metadata": {},
     "output_type": "execute_result"
    },
    {
     "data": {
      "image/png": "[encoded data removed]",
      "text/plain": [
       "<Figure size 864x864 with 2 Axes>"
      ]
     },
     "metadata": {
      "needs_background": "light"
     },
     "output_type": "display_data"
    }
   ],
   "source": [
    "fig, ax = plt.subplots(figsize=(12,12))\n",
    "sns.heatmap(df.corr().abs(), center=0, annot=True, linewidths=1.5, cmap='coolwarm');\n",
    "ax.set_ylim(len(df.corr())-0, -0.5)"
   ]
  },
  {
   "cell_type": "markdown",
   "metadata": {},
   "source": [
    "# Scrub"
   ]
  },
  {
   "cell_type": "code",
   "execution_count": 10,
   "metadata": {
    "scrolled": true
   },
   "outputs": [
    {
     "data": {
      "text/plain": [
       "-1              34700\n",
       " 7726859935        19\n",
       " 7753260438        13\n",
       " 7727117712        12\n",
       " 7727600619         9\n",
       "                ...  \n",
       " 15879606630        1\n",
       " 7758922092         1\n",
       " 7727677812         1\n",
       " 9640739188         1\n",
       " 16219707395        1\n",
       "Name: Subject ID, Length: 7945, dtype: int64"
      ]
     },
     "execution_count": 10,
     "metadata": {},
     "output_type": "execute_result"
    }
   ],
   "source": [
    "df['Subject ID'].value_counts()\n",
    "# May not end up dropping\n",
    "# Not sure that exactly these IDs are for"
   ]
  },
  {
   "cell_type": "code",
   "execution_count": 11,
   "metadata": {
    "scrolled": true
   },
   "outputs": [
    {
     "data": {
      "text/plain": [
       "20160000378750    16\n",
       "20150000190790    16\n",
       "20180000134604    14\n",
       "20190000441736    13\n",
       "20170000132836    13\n",
       "                  ..\n",
       "20190000045451     1\n",
       "20170000158799     1\n",
       "20150000003136     1\n",
       "20180000479302     1\n",
       "20180000071981     1\n",
       "Name: GO / SC Num, Length: 35023, dtype: int64"
      ]
     },
     "execution_count": 11,
     "metadata": {},
     "output_type": "execute_result"
    }
   ],
   "source": [
    "df['GO / SC Num'].value_counts()\n",
    "# Also not sure exactly what this is but I don't find it important to have"
   ]
  },
  {
   "cell_type": "code",
   "execution_count": 12,
   "metadata": {
    "scrolled": true
   },
   "outputs": [
    {
     "data": {
      "text/plain": [
       "13080077761    3\n",
       "15045077325    3\n",
       "14935106231    2\n",
       "12781960580    2\n",
       "12851512661    2\n",
       "              ..\n",
       "477105         1\n",
       "516777         1\n",
       "86813          1\n",
       "557733         1\n",
       "131072         1\n",
       "Name: Terry Stop ID, Length: 44814, dtype: int64"
      ]
     },
     "execution_count": 12,
     "metadata": {},
     "output_type": "execute_result"
    }
   ],
   "source": [
    "# Also a column not needed but we will look at it to make sure\n",
    "df['Terry Stop ID'].value_counts()"
   ]
  },
  {
   "cell_type": "code",
   "execution_count": 13,
   "metadata": {},
   "outputs": [
    {
     "data": {
      "text/plain": [
       "7456      401\n",
       "7634      339\n",
       "7773      307\n",
       "7765      304\n",
       "7758      299\n",
       "         ... \n",
       "6058        1\n",
       "5689        1\n",
       "6363        1\n",
       "5699        1\n",
       "5729        1\n",
       "Name: Officer ID, Length: 1178, dtype: int64"
      ]
     },
     "execution_count": 13,
     "metadata": {},
     "output_type": "execute_result"
    }
   ],
   "source": [
    "df['Officer ID'].value_counts()\n",
    "# This column is what I may look at later but for now I will drop it"
   ]
  },
  {
   "cell_type": "code",
   "execution_count": 14,
   "metadata": {},
   "outputs": [],
   "source": [
    "# I'm going to go ahead and start by dropping the columns we will not be using\n",
    "df = df.drop(columns=['Subject ID', 'GO / SC Num', 'Terry Stop ID', 'Officer ID'], axis=1)"
   ]
  },
  {
   "cell_type": "code",
   "execution_count": 15,
   "metadata": {},
   "outputs": [
    {
     "data": {
      "text/html": [
       "<div>\n",
       "<style scoped>\n",
       "    .dataframe tbody tr th:only-of-type {\n",
       "        vertical-align: middle;\n",
       "    }\n",
       "\n",
       "    .dataframe tbody tr th {\n",
       "        vertical-align: top;\n",
       "    }\n",
       "\n",
       "    .dataframe thead th {\n",
       "        text-align: right;\n",
       "    }\n",
       "</style>\n",
       "<table border=\"1\" class=\"dataframe\">\n",
       "  <thead>\n",
       "    <tr style=\"text-align: right;\">\n",
       "      <th></th>\n",
       "      <th>Subject Age Group</th>\n",
       "      <th>Stop Resolution</th>\n",
       "      <th>Weapon Type</th>\n",
       "      <th>Officer YOB</th>\n",
       "      <th>Officer Gender</th>\n",
       "      <th>Officer Race</th>\n",
       "      <th>Subject Perceived Race</th>\n",
       "      <th>Subject Perceived Gender</th>\n",
       "      <th>Reported Date</th>\n",
       "      <th>Reported Time</th>\n",
       "      <th>Initial Call Type</th>\n",
       "      <th>Final Call Type</th>\n",
       "      <th>Call Type</th>\n",
       "      <th>Officer Squad</th>\n",
       "      <th>Arrest Flag</th>\n",
       "      <th>Frisk Flag</th>\n",
       "      <th>Precinct</th>\n",
       "      <th>Sector</th>\n",
       "      <th>Beat</th>\n",
       "    </tr>\n",
       "  </thead>\n",
       "  <tbody>\n",
       "    <tr>\n",
       "      <td>0</td>\n",
       "      <td>-</td>\n",
       "      <td>Arrest</td>\n",
       "      <td>None</td>\n",
       "      <td>1984</td>\n",
       "      <td>M</td>\n",
       "      <td>Black or African American</td>\n",
       "      <td>Asian</td>\n",
       "      <td>Male</td>\n",
       "      <td>2015-10-16T00:00:00</td>\n",
       "      <td>11:32:00</td>\n",
       "      <td>-</td>\n",
       "      <td>-</td>\n",
       "      <td>-</td>\n",
       "      <td>SOUTH PCT 1ST W - ROBERT</td>\n",
       "      <td>N</td>\n",
       "      <td>N</td>\n",
       "      <td>South</td>\n",
       "      <td>O</td>\n",
       "      <td>O2</td>\n",
       "    </tr>\n",
       "    <tr>\n",
       "      <td>1</td>\n",
       "      <td>-</td>\n",
       "      <td>Field Contact</td>\n",
       "      <td>None</td>\n",
       "      <td>1965</td>\n",
       "      <td>M</td>\n",
       "      <td>White</td>\n",
       "      <td>-</td>\n",
       "      <td>-</td>\n",
       "      <td>2015-03-19T00:00:00</td>\n",
       "      <td>07:59:00</td>\n",
       "      <td>-</td>\n",
       "      <td>-</td>\n",
       "      <td>-</td>\n",
       "      <td>NaN</td>\n",
       "      <td>N</td>\n",
       "      <td>N</td>\n",
       "      <td>-</td>\n",
       "      <td>-</td>\n",
       "      <td>-</td>\n",
       "    </tr>\n",
       "    <tr>\n",
       "      <td>2</td>\n",
       "      <td>-</td>\n",
       "      <td>Field Contact</td>\n",
       "      <td>None</td>\n",
       "      <td>1961</td>\n",
       "      <td>M</td>\n",
       "      <td>White</td>\n",
       "      <td>White</td>\n",
       "      <td>Male</td>\n",
       "      <td>2015-03-21T00:00:00</td>\n",
       "      <td>19:12:00</td>\n",
       "      <td>-</td>\n",
       "      <td>-</td>\n",
       "      <td>-</td>\n",
       "      <td>NaN</td>\n",
       "      <td>N</td>\n",
       "      <td>-</td>\n",
       "      <td>-</td>\n",
       "      <td>-</td>\n",
       "      <td>-</td>\n",
       "    </tr>\n",
       "    <tr>\n",
       "      <td>3</td>\n",
       "      <td>-</td>\n",
       "      <td>Field Contact</td>\n",
       "      <td>None</td>\n",
       "      <td>1963</td>\n",
       "      <td>M</td>\n",
       "      <td>White</td>\n",
       "      <td>-</td>\n",
       "      <td>-</td>\n",
       "      <td>2015-04-01T00:00:00</td>\n",
       "      <td>04:55:00</td>\n",
       "      <td>-</td>\n",
       "      <td>-</td>\n",
       "      <td>-</td>\n",
       "      <td>NaN</td>\n",
       "      <td>N</td>\n",
       "      <td>N</td>\n",
       "      <td>-</td>\n",
       "      <td>-</td>\n",
       "      <td>-</td>\n",
       "    </tr>\n",
       "    <tr>\n",
       "      <td>4</td>\n",
       "      <td>-</td>\n",
       "      <td>Field Contact</td>\n",
       "      <td>None</td>\n",
       "      <td>1977</td>\n",
       "      <td>M</td>\n",
       "      <td>White</td>\n",
       "      <td>Black or African American</td>\n",
       "      <td>Male</td>\n",
       "      <td>2015-04-03T00:00:00</td>\n",
       "      <td>00:41:00</td>\n",
       "      <td>-</td>\n",
       "      <td>-</td>\n",
       "      <td>-</td>\n",
       "      <td>NaN</td>\n",
       "      <td>N</td>\n",
       "      <td>N</td>\n",
       "      <td>-</td>\n",
       "      <td>-</td>\n",
       "      <td>-</td>\n",
       "    </tr>\n",
       "  </tbody>\n",
       "</table>\n",
       "</div>"
      ],
      "text/plain": [
       "  Subject Age Group Stop Resolution Weapon Type  ...  Precinct  Sector    Beat\n",
       "0                 -          Arrest        None  ...     South  O       O2    \n",
       "1                 -   Field Contact        None  ...         -       -       -\n",
       "2                 -   Field Contact        None  ...         -       -       -\n",
       "3                 -   Field Contact        None  ...         -       -       -\n",
       "4                 -   Field Contact        None  ...         -       -       -\n",
       "\n",
       "[5 rows x 19 columns]"
      ]
     },
     "execution_count": 15,
     "metadata": {},
     "output_type": "execute_result"
    }
   ],
   "source": [
    "df.head(5)"
   ]
  },
  {
   "cell_type": "code",
   "execution_count": 16,
   "metadata": {
    "scrolled": true
   },
   "outputs": [
    {
     "data": {
      "text/plain": [
       "26 - 35         14905\n",
       "36 - 45          9460\n",
       "18 - 25          9069\n",
       "46 - 55          5768\n",
       "56 and Above     2283\n",
       "1 - 17           1935\n",
       "-                1418\n",
       "Name: Subject Age Group, dtype: int64"
      ]
     },
     "execution_count": 16,
     "metadata": {},
     "output_type": "execute_result"
    }
   ],
   "source": [
    "df['Subject Age Group'].value_counts()"
   ]
  },
  {
   "cell_type": "code",
   "execution_count": 17,
   "metadata": {},
   "outputs": [
    {
     "data": {
      "text/plain": [
       "0    26 - 35\n",
       "dtype: object"
      ]
     },
     "execution_count": 17,
     "metadata": {},
     "output_type": "execute_result"
    }
   ],
   "source": [
    "df['Subject Age Group'].mode()"
   ]
  },
  {
   "cell_type": "code",
   "execution_count": 18,
   "metadata": {},
   "outputs": [
    {
     "data": {
      "text/plain": [
       "26 - 35         16323\n",
       "36 - 45          9460\n",
       "18 - 25          9069\n",
       "46 - 55          5768\n",
       "56 and Above     2283\n",
       "1 - 17           1935\n",
       "Name: Subject Age Group, dtype: int64"
      ]
     },
     "execution_count": 18,
     "metadata": {},
     "output_type": "execute_result"
    }
   ],
   "source": [
    "df['Subject Age Group'] = df['Subject Age Group'].replace('-', '26 - 35')\n",
    "df['Subject Age Group'].value_counts()"
   ]
  },
  {
   "cell_type": "code",
   "execution_count": 19,
   "metadata": {
    "scrolled": false
   },
   "outputs": [
    {
     "data": {
      "text/plain": [
       "Field Contact               17968\n",
       "Offense Report              15124\n",
       "Arrest                      10843\n",
       "Referred for Prosecution      728\n",
       "Citation / Infraction         175\n",
       "Name: Stop Resolution, dtype: int64"
      ]
     },
     "execution_count": 19,
     "metadata": {},
     "output_type": "execute_result"
    }
   ],
   "source": [
    "df['Stop Resolution'].value_counts()"
   ]
  },
  {
   "cell_type": "code",
   "execution_count": 20,
   "metadata": {},
   "outputs": [],
   "source": [
    "# As we already have a field for whether an arrest was made or not \n",
    "# I will drop the 'Stop Resolution' column\n",
    "df = df.drop(columns=['Stop Resolution'], axis=1)"
   ]
  },
  {
   "cell_type": "code",
   "execution_count": 21,
   "metadata": {
    "scrolled": true
   },
   "outputs": [
    {
     "data": {
      "text/plain": [
       "None                                 32565\n",
       "-                                     9671\n",
       "Lethal Cutting Instrument             1482\n",
       "Knife/Cutting/Stabbing Instrument      496\n",
       "Handgun                                281\n",
       "Firearm Other                          100\n",
       "Blunt Object/Striking Implement         66\n",
       "Club, Blackjack, Brass Knuckles         49\n",
       "Firearm                                 34\n",
       "Mace/Pepper Spray                       20\n",
       "Other Firearm                           18\n",
       "Firearm (unk type)                      15\n",
       "Club                                     9\n",
       "Rifle                                    7\n",
       "None/Not Applicable                      7\n",
       "Taser/Stun Gun                           7\n",
       "Fire/Incendiary Device                   4\n",
       "Shotgun                                  3\n",
       "Automatic Handgun                        2\n",
       "Brass Knuckles                           1\n",
       "Blackjack                                1\n",
       "Name: Weapon Type, dtype: int64"
      ]
     },
     "execution_count": 21,
     "metadata": {},
     "output_type": "execute_result"
    }
   ],
   "source": [
    "df['Weapon Type'].value_counts()"
   ]
  },
  {
   "cell_type": "code",
   "execution_count": 22,
   "metadata": {},
   "outputs": [],
   "source": [
    "# Cleaning the nulls and missing values\n",
    "df['Weapon Type'] = df['Weapon Type'].replace('-', 'None')\n",
    "df['Weapon Type'] = df['Weapon Type'].replace('None/Not Applicable', 'None')"
   ]
  },
  {
   "cell_type": "code",
   "execution_count": 23,
   "metadata": {
    "scrolled": true
   },
   "outputs": [
    {
     "data": {
      "text/plain": [
       "None                                 42243\n",
       "Lethal Cutting Instrument             1482\n",
       "Knife/Cutting/Stabbing Instrument      496\n",
       "Handgun                                281\n",
       "Firearm Other                          100\n",
       "Blunt Object/Striking Implement         66\n",
       "Club, Blackjack, Brass Knuckles         49\n",
       "Firearm                                 34\n",
       "Mace/Pepper Spray                       20\n",
       "Other Firearm                           18\n",
       "Firearm (unk type)                      15\n",
       "Club                                     9\n",
       "Taser/Stun Gun                           7\n",
       "Rifle                                    7\n",
       "Fire/Incendiary Device                   4\n",
       "Shotgun                                  3\n",
       "Automatic Handgun                        2\n",
       "Blackjack                                1\n",
       "Brass Knuckles                           1\n",
       "Name: Weapon Type, dtype: int64"
      ]
     },
     "execution_count": 23,
     "metadata": {},
     "output_type": "execute_result"
    }
   ],
   "source": [
    "# Checking to make sure it worked\n",
    "df['Weapon Type'].value_counts()"
   ]
  },
  {
   "cell_type": "code",
   "execution_count": 24,
   "metadata": {},
   "outputs": [],
   "source": [
    "#Bin weapon type columns to lethal cutting instrument, firearm, other\n",
    "df['Weapon Type'].replace('Knife/Cutting/Stabbing Instrument', 'Lethal Cutting Instrument', inplace=True)\n",
    "\n",
    "df['Weapon Type'].replace('Handgun', 'Firearm', inplace=True)\n",
    "df['Weapon Type'].replace('Other Firearm', 'Firearm', inplace=True)\n",
    "df['Weapon Type'].replace('Rifle', 'Firearm', inplace=True)\n",
    "df['Weapon Type'].replace('Firearm (unk type)', 'Firearm', inplace=True)\n",
    "df['Weapon Type'].replace('Shotgun', 'Firearm', inplace=True)\n",
    "df['Weapon Type'].replace('Automatic Handgun', 'Firearm', inplace=True)\n",
    "df['Weapon Type'].replace('Taser/Stun Gun', 'Firearm', inplace=True)\n",
    "df['Weapon Type'].replace('Fire/Incendiary Device', 'Firearm', inplace=True)\n",
    "df['Weapon Type'].replace('Firearm Other', 'Firearm', inplace=True)\n",
    "\n",
    "df['Weapon Type'].replace('Club, Blackjack, Brass Knuckles', 'Other', inplace=True)\n",
    "df['Weapon Type'].replace('Club', 'Other', inplace=True)\n",
    "df['Weapon Type'].replace('Blackjack', 'Other', inplace=True)\n",
    "df['Weapon Type'].replace('Fire/Incendiary Device', 'Other', inplace=True)\n",
    "df['Weapon Type'].replace('Blunt Object/Striking Implement', 'Other', inplace=True)\n",
    "df['Weapon Type'].replace('Mace/Pepper Spray', 'Other', inplace=True)\n",
    "df['Weapon Type'].replace('Brass Knuckles', 'Other', inplace=True)"
   ]
  },
  {
   "cell_type": "code",
   "execution_count": 25,
   "metadata": {},
   "outputs": [
    {
     "data": {
      "text/plain": [
       "None                         42243\n",
       "Lethal Cutting Instrument     1978\n",
       "Firearm                        471\n",
       "Other                          146\n",
       "Name: Weapon Type, dtype: int64"
      ]
     },
     "execution_count": 25,
     "metadata": {},
     "output_type": "execute_result"
    }
   ],
   "source": [
    "df['Weapon Type'].value_counts()"
   ]
  },
  {
   "cell_type": "code",
   "execution_count": 26,
   "metadata": {},
   "outputs": [],
   "source": [
    "# Need to come back and make weapons binary (had a weapon or no weapon)"
   ]
  },
  {
   "cell_type": "code",
   "execution_count": 27,
   "metadata": {
    "scrolled": true
   },
   "outputs": [
    {
     "data": {
      "text/plain": [
       "1986    3153\n",
       "1987    2880\n",
       "1984    2670\n",
       "1991    2590\n",
       "1985    2424\n",
       "1992    2258\n",
       "1990    2128\n",
       "1988    1975\n",
       "1989    1915\n",
       "1982    1811\n",
       "1983    1661\n",
       "1979    1443\n",
       "1981    1366\n",
       "1993    1323\n",
       "1971    1211\n",
       "1978    1117\n",
       "1995     980\n",
       "1976     979\n",
       "1977     977\n",
       "1973     896\n",
       "1994     803\n",
       "1980     785\n",
       "1967     705\n",
       "1968     622\n",
       "1970     576\n",
       "1974     546\n",
       "1969     530\n",
       "1975     519\n",
       "1996     493\n",
       "1962     452\n",
       "1972     414\n",
       "1965     414\n",
       "1964     411\n",
       "1997     327\n",
       "1963     255\n",
       "1966     223\n",
       "1958     218\n",
       "1961     208\n",
       "1959     174\n",
       "1960     161\n",
       "1900      60\n",
       "1954      44\n",
       "1957      43\n",
       "1953      32\n",
       "1955      21\n",
       "1956      17\n",
       "1948      11\n",
       "1952       9\n",
       "1949       5\n",
       "1946       2\n",
       "1951       1\n",
       "Name: Officer YOB, dtype: int64"
      ]
     },
     "execution_count": 27,
     "metadata": {},
     "output_type": "execute_result"
    }
   ],
   "source": [
    "df['Officer YOB'].value_counts()"
   ]
  },
  {
   "cell_type": "code",
   "execution_count": 28,
   "metadata": {
    "scrolled": true
   },
   "outputs": [
    {
     "data": {
      "text/plain": [
       "M    39709\n",
       "F     5100\n",
       "N       29\n",
       "Name: Officer Gender, dtype: int64"
      ]
     },
     "execution_count": 28,
     "metadata": {},
     "output_type": "execute_result"
    }
   ],
   "source": [
    "df['Officer Gender'].value_counts()"
   ]
  },
  {
   "cell_type": "code",
   "execution_count": 29,
   "metadata": {},
   "outputs": [],
   "source": [
    "# Removing Officer Gender 'N'\n",
    "df = df[df['Officer Gender'] != 'N']"
   ]
  },
  {
   "cell_type": "code",
   "execution_count": 30,
   "metadata": {
    "scrolled": true
   },
   "outputs": [],
   "source": [
    "# Making Officer Gender Binary\n",
    "df['Officer Gender'].replace('M', 1.0, inplace=True)\n",
    "df['Officer Gender'].replace('F', 0.0, inplace=True)"
   ]
  },
  {
   "cell_type": "code",
   "execution_count": 31,
   "metadata": {},
   "outputs": [
    {
     "data": {
      "text/plain": [
       "1.000    39709\n",
       "0.000     5100\n",
       "Name: Officer Gender, dtype: int64"
      ]
     },
     "execution_count": 31,
     "metadata": {},
     "output_type": "execute_result"
    }
   ],
   "source": [
    "# Making sure it worked\n",
    "df['Officer Gender'].value_counts()"
   ]
  },
  {
   "cell_type": "code",
   "execution_count": 32,
   "metadata": {
    "scrolled": true
   },
   "outputs": [
    {
     "data": {
      "text/plain": [
       "White                            34109\n",
       "Hispanic or Latino                2547\n",
       "Two or More Races                 2487\n",
       "Asian                             1850\n",
       "Black or African American         1793\n",
       "Not Specified                     1244\n",
       "Nat Hawaiian/Oth Pac Islander      437\n",
       "American Indian/Alaska Native      311\n",
       "Unknown                             31\n",
       "Name: Officer Race, dtype: int64"
      ]
     },
     "execution_count": 32,
     "metadata": {},
     "output_type": "execute_result"
    }
   ],
   "source": [
    "df['Officer Race'].value_counts()"
   ]
  },
  {
   "cell_type": "code",
   "execution_count": 33,
   "metadata": {
    "scrolled": true
   },
   "outputs": [
    {
     "data": {
      "text/plain": [
       "White                            34109\n",
       "Hispanic or Latino                2547\n",
       "Two or More Races                 2487\n",
       "Asian                             1850\n",
       "Black or African American         1793\n",
       "Not Specified                     1275\n",
       "Nat Hawaiian/Oth Pac Islander      437\n",
       "American Indian/Alaska Native      311\n",
       "Name: Officer Race, dtype: int64"
      ]
     },
     "execution_count": 33,
     "metadata": {},
     "output_type": "execute_result"
    }
   ],
   "source": [
    "df['Officer Race'] = df['Officer Race'].replace('Unknown', 'Not Specified')\n",
    "df['Officer Race'].value_counts()"
   ]
  },
  {
   "cell_type": "code",
   "execution_count": 34,
   "metadata": {},
   "outputs": [],
   "source": [
    "# Making officer race binary with White and non-white as this of interest\n",
    "#df['Officer Race'].replace('White', 1.0, inplace=True)\n",
    "#values = df['Officer Race'].values\n",
    "#df['Officer Race'] = np.where(values != 1.0, 0.0, 1.0)"
   ]
  },
  {
   "cell_type": "code",
   "execution_count": 35,
   "metadata": {
    "scrolled": true
   },
   "outputs": [
    {
     "data": {
      "text/plain": [
       "White                                        21902\n",
       "Black or African American                    13356\n",
       "Unknown                                       2380\n",
       "-                                             1754\n",
       "Hispanic                                      1684\n",
       "Asian                                         1429\n",
       "American Indian or Alaska Native              1301\n",
       "Multi-Racial                                   809\n",
       "Other                                          152\n",
       "Native Hawaiian or Other Pacific Islander       42\n",
       "Name: Subject Perceived Race, dtype: int64"
      ]
     },
     "execution_count": 35,
     "metadata": {},
     "output_type": "execute_result"
    }
   ],
   "source": [
    "df['Subject Perceived Race'].value_counts()"
   ]
  },
  {
   "cell_type": "code",
   "execution_count": 36,
   "metadata": {
    "scrolled": true
   },
   "outputs": [
    {
     "data": {
      "text/plain": [
       "White                                        21902\n",
       "Black or African American                    13356\n",
       "Unknown                                       4286\n",
       "Hispanic                                      1684\n",
       "Asian                                         1429\n",
       "American Indian or Alaska Native              1301\n",
       "Multi-Racial                                   809\n",
       "Native Hawaiian or Other Pacific Islander       42\n",
       "Name: Subject Perceived Race, dtype: int64"
      ]
     },
     "execution_count": 36,
     "metadata": {},
     "output_type": "execute_result"
    }
   ],
   "source": [
    "df['Subject Perceived Race'] = df['Subject Perceived Race'].replace('Other', 'Unknown')\n",
    "df['Subject Perceived Race'] = df['Subject Perceived Race'].replace('-', 'Unknown')\n",
    "df['Subject Perceived Race'].value_counts()"
   ]
  },
  {
   "cell_type": "code",
   "execution_count": 37,
   "metadata": {},
   "outputs": [],
   "source": [
    "# Making the subjext race binary as well to see if there are patterns in the data\n",
    "#df['Subject Perceived Race'].replace('White', 1.0, inplace=True)\n",
    "#df['Subject Perceived Race'].replace('Black or African American', 1.0, inplace=True)\n",
    "#values = df['Subject Perceived Race'].values\n",
    "#df['Subject Perceived Race'] = np.where(values != 1.0, 0.0, 1.0)"
   ]
  },
  {
   "cell_type": "code",
   "execution_count": 38,
   "metadata": {
    "scrolled": true
   },
   "outputs": [
    {
     "data": {
      "text/plain": [
       "Male                                                         35039\n",
       "Female                                                        9157\n",
       "Unable to Determine                                            326\n",
       "-                                                              263\n",
       "Unknown                                                         20\n",
       "Gender Diverse (gender non-conforming and/or transgender)        4\n",
       "Name: Subject Perceived Gender, dtype: int64"
      ]
     },
     "execution_count": 38,
     "metadata": {},
     "output_type": "execute_result"
    }
   ],
   "source": [
    "df['Subject Perceived Gender'].value_counts()"
   ]
  },
  {
   "cell_type": "code",
   "execution_count": 39,
   "metadata": {},
   "outputs": [],
   "source": [
    "df = df[(df['Subject Perceived Gender'] == 'Male') | (df['Subject Perceived Gender'] == 'Female')]"
   ]
  },
  {
   "cell_type": "code",
   "execution_count": 40,
   "metadata": {
    "scrolled": true
   },
   "outputs": [
    {
     "data": {
      "text/plain": [
       "Male      35039\n",
       "Female     9157\n",
       "Name: Subject Perceived Gender, dtype: int64"
      ]
     },
     "execution_count": 40,
     "metadata": {},
     "output_type": "execute_result"
    }
   ],
   "source": [
    "df['Subject Perceived Gender'].value_counts()"
   ]
  },
  {
   "cell_type": "code",
   "execution_count": 41,
   "metadata": {
    "scrolled": true
   },
   "outputs": [],
   "source": [
    "# Making Officer Gender Binary\n",
    "df['Subject Perceived Gender'].replace('Male', 1.0, inplace=True)\n",
    "df['Subject Perceived Gender'].replace('Female', 0.0, inplace=True)"
   ]
  },
  {
   "cell_type": "code",
   "execution_count": 42,
   "metadata": {
    "scrolled": false
   },
   "outputs": [
    {
     "data": {
      "text/plain": [
       "1.000    35039\n",
       "0.000     9157\n",
       "Name: Subject Perceived Gender, dtype: int64"
      ]
     },
     "execution_count": 42,
     "metadata": {},
     "output_type": "execute_result"
    }
   ],
   "source": [
    "df['Subject Perceived Gender'].value_counts()"
   ]
  },
  {
   "cell_type": "code",
   "execution_count": 43,
   "metadata": {
    "scrolled": true
   },
   "outputs": [
    {
     "data": {
      "text/plain": [
       "2015-10-01T00:00:00    91\n",
       "2015-09-29T00:00:00    66\n",
       "2015-05-28T00:00:00    57\n",
       "2019-04-26T00:00:00    53\n",
       "2015-08-04T00:00:00    53\n",
       "                       ..\n",
       "2015-05-10T00:00:00     1\n",
       "2015-04-28T00:00:00     1\n",
       "2015-03-28T00:00:00     1\n",
       "2015-05-06T00:00:00     1\n",
       "2015-04-14T00:00:00     1\n",
       "Name: Reported Date, Length: 2064, dtype: int64"
      ]
     },
     "execution_count": 43,
     "metadata": {},
     "output_type": "execute_result"
    }
   ],
   "source": [
    "df['Reported Date'].value_counts()"
   ]
  },
  {
   "cell_type": "code",
   "execution_count": 44,
   "metadata": {},
   "outputs": [],
   "source": [
    "df['Reported Date'] = df['Reported Date'].str.split('T').str[0]"
   ]
  },
  {
   "cell_type": "code",
   "execution_count": 45,
   "metadata": {},
   "outputs": [
    {
     "data": {
      "text/plain": [
       "2015-10-01    91\n",
       "2015-09-29    66\n",
       "2015-05-28    57\n",
       "2015-08-04    53\n",
       "2019-04-26    53\n",
       "              ..\n",
       "2015-03-28     1\n",
       "2015-04-28     1\n",
       "2015-05-06     1\n",
       "2015-03-24     1\n",
       "2015-03-31     1\n",
       "Name: Reported Date, Length: 2064, dtype: int64"
      ]
     },
     "execution_count": 45,
     "metadata": {},
     "output_type": "execute_result"
    }
   ],
   "source": [
    "df['Reported Date'].value_counts()"
   ]
  },
  {
   "cell_type": "code",
   "execution_count": 46,
   "metadata": {},
   "outputs": [],
   "source": [
    "df['Reported Date'] = pd.to_datetime(df['Reported Date'])"
   ]
  },
  {
   "cell_type": "code",
   "execution_count": 47,
   "metadata": {},
   "outputs": [],
   "source": [
    "df['Reported Day of Week'] = df['Reported Date'].dt.day_name()"
   ]
  },
  {
   "cell_type": "code",
   "execution_count": 48,
   "metadata": {},
   "outputs": [],
   "source": [
    "df['Reported Year'] = df['Reported Date'].dt.year\n",
    "df['Reported Month'] = df['Reported Date'].dt.month\n",
    "df['Reported Day'] = df['Reported Date'].dt.day"
   ]
  },
  {
   "cell_type": "code",
   "execution_count": 49,
   "metadata": {},
   "outputs": [],
   "source": [
    "df = df.drop(columns=['Reported Date'], axis=1)"
   ]
  },
  {
   "cell_type": "code",
   "execution_count": 50,
   "metadata": {
    "scrolled": true
   },
   "outputs": [
    {
     "data": {
      "text/plain": [
       "0    [11, 32, 00]\n",
       "2    [19, 12, 00]\n",
       "4    [00, 41, 00]\n",
       "5    [23, 46, 00]\n",
       "6    [21, 39, 00]\n",
       "Name: Reported Time, dtype: object"
      ]
     },
     "execution_count": 50,
     "metadata": {},
     "output_type": "execute_result"
    }
   ],
   "source": [
    "#Convert to datetime\n",
    "df['Reported Time'] = df['Reported Time'].str.split(':')\n",
    "df['Reported Time'].head()"
   ]
  },
  {
   "cell_type": "code",
   "execution_count": 51,
   "metadata": {},
   "outputs": [],
   "source": [
    "df['Reported Hour'] = df['Reported Time'].map(lambda x: x[0]).astype('float64')\n",
    "df['Reported Minute'] = df['Reported Time'].map(lambda x: x[1]).astype('float64')"
   ]
  },
  {
   "cell_type": "code",
   "execution_count": 52,
   "metadata": {},
   "outputs": [],
   "source": [
    "df = df.drop(columns=['Reported Time'], axis=1)"
   ]
  },
  {
   "cell_type": "code",
   "execution_count": 53,
   "metadata": {
    "scrolled": true
   },
   "outputs": [
    {
     "data": {
      "text/html": [
       "<div>\n",
       "<style scoped>\n",
       "    .dataframe tbody tr th:only-of-type {\n",
       "        vertical-align: middle;\n",
       "    }\n",
       "\n",
       "    .dataframe tbody tr th {\n",
       "        vertical-align: top;\n",
       "    }\n",
       "\n",
       "    .dataframe thead th {\n",
       "        text-align: right;\n",
       "    }\n",
       "</style>\n",
       "<table border=\"1\" class=\"dataframe\">\n",
       "  <thead>\n",
       "    <tr style=\"text-align: right;\">\n",
       "      <th></th>\n",
       "      <th>Subject Age Group</th>\n",
       "      <th>Weapon Type</th>\n",
       "      <th>Officer YOB</th>\n",
       "      <th>Officer Gender</th>\n",
       "      <th>Officer Race</th>\n",
       "      <th>Subject Perceived Race</th>\n",
       "      <th>Subject Perceived Gender</th>\n",
       "      <th>Initial Call Type</th>\n",
       "      <th>Final Call Type</th>\n",
       "      <th>Call Type</th>\n",
       "      <th>Officer Squad</th>\n",
       "      <th>Arrest Flag</th>\n",
       "      <th>Frisk Flag</th>\n",
       "      <th>Precinct</th>\n",
       "      <th>Sector</th>\n",
       "      <th>Beat</th>\n",
       "      <th>Reported Day of Week</th>\n",
       "      <th>Reported Year</th>\n",
       "      <th>Reported Month</th>\n",
       "      <th>Reported Day</th>\n",
       "      <th>Reported Hour</th>\n",
       "      <th>Reported Minute</th>\n",
       "    </tr>\n",
       "  </thead>\n",
       "  <tbody>\n",
       "    <tr>\n",
       "      <td>0</td>\n",
       "      <td>26 - 35</td>\n",
       "      <td>None</td>\n",
       "      <td>1984</td>\n",
       "      <td>1.000</td>\n",
       "      <td>Black or African American</td>\n",
       "      <td>Asian</td>\n",
       "      <td>1.000</td>\n",
       "      <td>-</td>\n",
       "      <td>-</td>\n",
       "      <td>-</td>\n",
       "      <td>SOUTH PCT 1ST W - ROBERT</td>\n",
       "      <td>N</td>\n",
       "      <td>N</td>\n",
       "      <td>South</td>\n",
       "      <td>O</td>\n",
       "      <td>O2</td>\n",
       "      <td>Friday</td>\n",
       "      <td>2015</td>\n",
       "      <td>10</td>\n",
       "      <td>16</td>\n",
       "      <td>11.000</td>\n",
       "      <td>32.000</td>\n",
       "    </tr>\n",
       "    <tr>\n",
       "      <td>2</td>\n",
       "      <td>26 - 35</td>\n",
       "      <td>None</td>\n",
       "      <td>1961</td>\n",
       "      <td>1.000</td>\n",
       "      <td>White</td>\n",
       "      <td>White</td>\n",
       "      <td>1.000</td>\n",
       "      <td>-</td>\n",
       "      <td>-</td>\n",
       "      <td>-</td>\n",
       "      <td>NaN</td>\n",
       "      <td>N</td>\n",
       "      <td>-</td>\n",
       "      <td>-</td>\n",
       "      <td>-</td>\n",
       "      <td>-</td>\n",
       "      <td>Saturday</td>\n",
       "      <td>2015</td>\n",
       "      <td>3</td>\n",
       "      <td>21</td>\n",
       "      <td>19.000</td>\n",
       "      <td>12.000</td>\n",
       "    </tr>\n",
       "    <tr>\n",
       "      <td>4</td>\n",
       "      <td>26 - 35</td>\n",
       "      <td>None</td>\n",
       "      <td>1977</td>\n",
       "      <td>1.000</td>\n",
       "      <td>White</td>\n",
       "      <td>Black or African American</td>\n",
       "      <td>1.000</td>\n",
       "      <td>-</td>\n",
       "      <td>-</td>\n",
       "      <td>-</td>\n",
       "      <td>NaN</td>\n",
       "      <td>N</td>\n",
       "      <td>N</td>\n",
       "      <td>-</td>\n",
       "      <td>-</td>\n",
       "      <td>-</td>\n",
       "      <td>Friday</td>\n",
       "      <td>2015</td>\n",
       "      <td>4</td>\n",
       "      <td>3</td>\n",
       "      <td>0.000</td>\n",
       "      <td>41.000</td>\n",
       "    </tr>\n",
       "    <tr>\n",
       "      <td>5</td>\n",
       "      <td>26 - 35</td>\n",
       "      <td>None</td>\n",
       "      <td>1973</td>\n",
       "      <td>1.000</td>\n",
       "      <td>White</td>\n",
       "      <td>Black or African American</td>\n",
       "      <td>1.000</td>\n",
       "      <td>-</td>\n",
       "      <td>-</td>\n",
       "      <td>-</td>\n",
       "      <td>NaN</td>\n",
       "      <td>N</td>\n",
       "      <td>N</td>\n",
       "      <td>-</td>\n",
       "      <td>-</td>\n",
       "      <td>-</td>\n",
       "      <td>Sunday</td>\n",
       "      <td>2015</td>\n",
       "      <td>4</td>\n",
       "      <td>5</td>\n",
       "      <td>23.000</td>\n",
       "      <td>46.000</td>\n",
       "    </tr>\n",
       "    <tr>\n",
       "      <td>6</td>\n",
       "      <td>26 - 35</td>\n",
       "      <td>None</td>\n",
       "      <td>1985</td>\n",
       "      <td>1.000</td>\n",
       "      <td>Hispanic or Latino</td>\n",
       "      <td>Unknown</td>\n",
       "      <td>0.000</td>\n",
       "      <td>-</td>\n",
       "      <td>-</td>\n",
       "      <td>-</td>\n",
       "      <td>WEST PCT 3RD W - MARY</td>\n",
       "      <td>N</td>\n",
       "      <td>N</td>\n",
       "      <td>-</td>\n",
       "      <td>-</td>\n",
       "      <td>-</td>\n",
       "      <td>Wednesday</td>\n",
       "      <td>2015</td>\n",
       "      <td>5</td>\n",
       "      <td>20</td>\n",
       "      <td>21.000</td>\n",
       "      <td>39.000</td>\n",
       "    </tr>\n",
       "  </tbody>\n",
       "</table>\n",
       "</div>"
      ],
      "text/plain": [
       "  Subject Age Group Weapon Type  ...  Reported Hour  Reported Minute\n",
       "0           26 - 35        None  ...         11.000           32.000\n",
       "2           26 - 35        None  ...         19.000           12.000\n",
       "4           26 - 35        None  ...          0.000           41.000\n",
       "5           26 - 35        None  ...         23.000           46.000\n",
       "6           26 - 35        None  ...         21.000           39.000\n",
       "\n",
       "[5 rows x 22 columns]"
      ]
     },
     "execution_count": 53,
     "metadata": {},
     "output_type": "execute_result"
    }
   ],
   "source": [
    "df.head(5)"
   ]
  },
  {
   "cell_type": "code",
   "execution_count": 54,
   "metadata": {},
   "outputs": [],
   "source": [
    "df = df.drop(columns = ['Reported Minute', 'Reported Hour', 'Reported Day'])"
   ]
  },
  {
   "cell_type": "code",
   "execution_count": 55,
   "metadata": {},
   "outputs": [
    {
     "data": {
      "text/html": [
       "<div>\n",
       "<style scoped>\n",
       "    .dataframe tbody tr th:only-of-type {\n",
       "        vertical-align: middle;\n",
       "    }\n",
       "\n",
       "    .dataframe tbody tr th {\n",
       "        vertical-align: top;\n",
       "    }\n",
       "\n",
       "    .dataframe thead th {\n",
       "        text-align: right;\n",
       "    }\n",
       "</style>\n",
       "<table border=\"1\" class=\"dataframe\">\n",
       "  <thead>\n",
       "    <tr style=\"text-align: right;\">\n",
       "      <th></th>\n",
       "      <th>Subject Age Group</th>\n",
       "      <th>Weapon Type</th>\n",
       "      <th>Officer YOB</th>\n",
       "      <th>Officer Gender</th>\n",
       "      <th>Officer Race</th>\n",
       "      <th>Subject Perceived Race</th>\n",
       "      <th>Subject Perceived Gender</th>\n",
       "      <th>Initial Call Type</th>\n",
       "      <th>Final Call Type</th>\n",
       "      <th>Call Type</th>\n",
       "      <th>Officer Squad</th>\n",
       "      <th>Arrest Flag</th>\n",
       "      <th>Frisk Flag</th>\n",
       "      <th>Precinct</th>\n",
       "      <th>Sector</th>\n",
       "      <th>Beat</th>\n",
       "      <th>Reported Day of Week</th>\n",
       "      <th>Reported Year</th>\n",
       "      <th>Reported Month</th>\n",
       "    </tr>\n",
       "  </thead>\n",
       "  <tbody>\n",
       "    <tr>\n",
       "      <td>0</td>\n",
       "      <td>26 - 35</td>\n",
       "      <td>None</td>\n",
       "      <td>1984</td>\n",
       "      <td>1.000</td>\n",
       "      <td>Black or African American</td>\n",
       "      <td>Asian</td>\n",
       "      <td>1.000</td>\n",
       "      <td>-</td>\n",
       "      <td>-</td>\n",
       "      <td>-</td>\n",
       "      <td>SOUTH PCT 1ST W - ROBERT</td>\n",
       "      <td>N</td>\n",
       "      <td>N</td>\n",
       "      <td>South</td>\n",
       "      <td>O</td>\n",
       "      <td>O2</td>\n",
       "      <td>Friday</td>\n",
       "      <td>2015</td>\n",
       "      <td>10</td>\n",
       "    </tr>\n",
       "    <tr>\n",
       "      <td>2</td>\n",
       "      <td>26 - 35</td>\n",
       "      <td>None</td>\n",
       "      <td>1961</td>\n",
       "      <td>1.000</td>\n",
       "      <td>White</td>\n",
       "      <td>White</td>\n",
       "      <td>1.000</td>\n",
       "      <td>-</td>\n",
       "      <td>-</td>\n",
       "      <td>-</td>\n",
       "      <td>NaN</td>\n",
       "      <td>N</td>\n",
       "      <td>-</td>\n",
       "      <td>-</td>\n",
       "      <td>-</td>\n",
       "      <td>-</td>\n",
       "      <td>Saturday</td>\n",
       "      <td>2015</td>\n",
       "      <td>3</td>\n",
       "    </tr>\n",
       "    <tr>\n",
       "      <td>4</td>\n",
       "      <td>26 - 35</td>\n",
       "      <td>None</td>\n",
       "      <td>1977</td>\n",
       "      <td>1.000</td>\n",
       "      <td>White</td>\n",
       "      <td>Black or African American</td>\n",
       "      <td>1.000</td>\n",
       "      <td>-</td>\n",
       "      <td>-</td>\n",
       "      <td>-</td>\n",
       "      <td>NaN</td>\n",
       "      <td>N</td>\n",
       "      <td>N</td>\n",
       "      <td>-</td>\n",
       "      <td>-</td>\n",
       "      <td>-</td>\n",
       "      <td>Friday</td>\n",
       "      <td>2015</td>\n",
       "      <td>4</td>\n",
       "    </tr>\n",
       "    <tr>\n",
       "      <td>5</td>\n",
       "      <td>26 - 35</td>\n",
       "      <td>None</td>\n",
       "      <td>1973</td>\n",
       "      <td>1.000</td>\n",
       "      <td>White</td>\n",
       "      <td>Black or African American</td>\n",
       "      <td>1.000</td>\n",
       "      <td>-</td>\n",
       "      <td>-</td>\n",
       "      <td>-</td>\n",
       "      <td>NaN</td>\n",
       "      <td>N</td>\n",
       "      <td>N</td>\n",
       "      <td>-</td>\n",
       "      <td>-</td>\n",
       "      <td>-</td>\n",
       "      <td>Sunday</td>\n",
       "      <td>2015</td>\n",
       "      <td>4</td>\n",
       "    </tr>\n",
       "    <tr>\n",
       "      <td>6</td>\n",
       "      <td>26 - 35</td>\n",
       "      <td>None</td>\n",
       "      <td>1985</td>\n",
       "      <td>1.000</td>\n",
       "      <td>Hispanic or Latino</td>\n",
       "      <td>Unknown</td>\n",
       "      <td>0.000</td>\n",
       "      <td>-</td>\n",
       "      <td>-</td>\n",
       "      <td>-</td>\n",
       "      <td>WEST PCT 3RD W - MARY</td>\n",
       "      <td>N</td>\n",
       "      <td>N</td>\n",
       "      <td>-</td>\n",
       "      <td>-</td>\n",
       "      <td>-</td>\n",
       "      <td>Wednesday</td>\n",
       "      <td>2015</td>\n",
       "      <td>5</td>\n",
       "    </tr>\n",
       "  </tbody>\n",
       "</table>\n",
       "</div>"
      ],
      "text/plain": [
       "  Subject Age Group Weapon Type  ...  Reported Year  Reported Month\n",
       "0           26 - 35        None  ...           2015              10\n",
       "2           26 - 35        None  ...           2015               3\n",
       "4           26 - 35        None  ...           2015               4\n",
       "5           26 - 35        None  ...           2015               4\n",
       "6           26 - 35        None  ...           2015               5\n",
       "\n",
       "[5 rows x 19 columns]"
      ]
     },
     "execution_count": 55,
     "metadata": {},
     "output_type": "execute_result"
    }
   ],
   "source": [
    "df.head(5)"
   ]
  },
  {
   "cell_type": "code",
   "execution_count": 56,
   "metadata": {
    "scrolled": false
   },
   "outputs": [
    {
     "data": {
      "text/plain": [
       "-                                                 12776\n",
       "SUSPICIOUS STOP - OFFICER INITIATED ONVIEW         2889\n",
       "SUSPICIOUS PERSON, VEHICLE OR INCIDENT             2770\n",
       "DISTURBANCE, MISCELLANEOUS/OTHER                   2276\n",
       "ASLT - IP/JO - WITH OR W/O WPNS (NO SHOOTINGS)     1875\n",
       "                                                  ...  \n",
       "PROPERTY - FOUND GUN, SHELLCASINGS                    1\n",
       "PHONE - OBSCENE OR NUISANCE PHONE CALLS               1\n",
       "ALARM - RESIDENTIAL - SILENT/AUD PANIC/DURESS         1\n",
       "-ASSIGNED DUTY - STAKEOUT                             1\n",
       "PROPERTY - DAMAGE (GUN RELATED)                       1\n",
       "Name: Initial Call Type, Length: 165, dtype: int64"
      ]
     },
     "execution_count": 56,
     "metadata": {},
     "output_type": "execute_result"
    }
   ],
   "source": [
    "df['Initial Call Type'].value_counts()\n",
    "# There are a lot of null values\n",
    "# As there are many nulls that can't be accounted for I may drop the column and instead use call type"
   ]
  },
  {
   "cell_type": "code",
   "execution_count": 57,
   "metadata": {
    "scrolled": true
   },
   "outputs": [
    {
     "data": {
      "text/plain": [
       "165"
      ]
     },
     "execution_count": 57,
     "metadata": {},
     "output_type": "execute_result"
    }
   ],
   "source": [
    "df['Initial Call Type'].nunique()"
   ]
  },
  {
   "cell_type": "code",
   "execution_count": 58,
   "metadata": {
    "scrolled": true
   },
   "outputs": [
    {
     "data": {
      "text/plain": [
       "-                                           12776\n",
       "--SUSPICIOUS CIRCUM. - SUSPICIOUS PERSON     3447\n",
       "--PROWLER - TRESPASS                         3096\n",
       "--DISTURBANCE - OTHER                        2511\n",
       "--ASSAULTS, OTHER                            2157\n",
       "                                            ...  \n",
       "DOWN - CHECK FOR DOWN PERSON                    1\n",
       "FIGHT - VERBAL/ORAL (NO WEAPONS)                1\n",
       "ORDER - VIOLATING DV COURT ORDER                1\n",
       "NARCOTICS WARRANT SERVICE                       1\n",
       "OVERDOSE - DRUG RELATED CASUALTY                1\n",
       "Name: Final Call Type, Length: 203, dtype: int64"
      ]
     },
     "execution_count": 58,
     "metadata": {},
     "output_type": "execute_result"
    }
   ],
   "source": [
    "df['Final Call Type'].value_counts()\n",
    "# Final Call type also has many nulls values so I may end up dropping\n",
    "# It should be noted that the same amount of nulls are found for initial call type and final call type\n",
    "# There may be a bad practice of data reporting"
   ]
  },
  {
   "cell_type": "code",
   "execution_count": 59,
   "metadata": {},
   "outputs": [
    {
     "data": {
      "text/plain": [
       "203"
      ]
     },
     "execution_count": 59,
     "metadata": {},
     "output_type": "execute_result"
    }
   ],
   "source": [
    "df['Final Call Type'].nunique()"
   ]
  },
  {
   "cell_type": "code",
   "execution_count": 60,
   "metadata": {
    "scrolled": true
   },
   "outputs": [
    {
     "data": {
      "text/plain": [
       "911                              19671\n",
       "-                                12776\n",
       "ONVIEW                            8371\n",
       "TELEPHONE OTHER, NOT 911          3084\n",
       "ALARM CALL (NOT POLICE ALARM)      287\n",
       "TEXT MESSAGE                         6\n",
       "SCHEDULED EVENT (RECURRING)          1\n",
       "Name: Call Type, dtype: int64"
      ]
     },
     "execution_count": 60,
     "metadata": {},
     "output_type": "execute_result"
    }
   ],
   "source": [
    "df['Call Type'].value_counts()\n",
    "# There are still the same amount of null values \n",
    "# but we can use this column instead of initial and final as it is easier to see the categories"
   ]
  },
  {
   "cell_type": "code",
   "execution_count": 61,
   "metadata": {},
   "outputs": [],
   "source": [
    "# Splitting the categories to 911, Onview, and Other\n",
    "# As a note Onview means the officer simply saw something that looked suspicious\n",
    "df['Call Type'].replace('TELEPHONE OTHER, NOT 911', 'Other', inplace=True)\n",
    "df['Call Type'].replace('-', 'Other', inplace=True)\n",
    "df['Call Type'].replace('ALARM CALL (NOT POLICE ALARM)', 'Other', inplace=True)\n",
    "df['Call Type'].replace('TEXT MESSAGE', 'Other', inplace=True)\n",
    "df['Call Type'].replace('PROACTIVE (OFFICER INITIATED)', 'Other', inplace=True)\n",
    "df['Call Type'].replace('SCHEDULED EVENT (RECURRING)', 'Other', inplace=True)"
   ]
  },
  {
   "cell_type": "code",
   "execution_count": 62,
   "metadata": {},
   "outputs": [],
   "source": [
    "df = df.drop(columns=['Initial Call Type', 'Final Call Type'], axis=1)"
   ]
  },
  {
   "cell_type": "code",
   "execution_count": 63,
   "metadata": {
    "scrolled": true
   },
   "outputs": [
    {
     "data": {
      "text/plain": [
       "TRAINING - FIELD TRAINING SQUAD                 4689\n",
       "WEST PCT 1ST W - DAVID/MARY                     1465\n",
       "WEST PCT 2ND W - D/M RELIEF                      969\n",
       "SOUTHWEST PCT 2ND W - FRANK                      891\n",
       "NORTH PCT 2ND WATCH - NORTH BEATS                880\n",
       "                                                ... \n",
       "BURG/THEFT/JUV - WEST                              1\n",
       "COMMUNITY OUTREACH - SPECIAL PROJECTS DETAIL       1\n",
       "RECORDS - DAY SHIFT                                1\n",
       "CANINE - DAY SQUAD                                 1\n",
       "VICE - GENERAL INVESTIGATIONS SQUAD                1\n",
       "Name: Officer Squad, Length: 167, dtype: int64"
      ]
     },
     "execution_count": 63,
     "metadata": {},
     "output_type": "execute_result"
    }
   ],
   "source": [
    "df['Officer Squad'].value_counts()"
   ]
  },
  {
   "cell_type": "code",
   "execution_count": 64,
   "metadata": {},
   "outputs": [],
   "source": [
    "# Find the mode of the Officer Squad column\n",
    "officer_squad_mode = df['Officer Squad'].mode().values[0]\n",
    "# Replace NaN values in the Officer Squad column with the mode value\n",
    "df['Officer Squad'].fillna(officer_squad_mode, inplace=True)"
   ]
  },
  {
   "cell_type": "code",
   "execution_count": 65,
   "metadata": {
    "scrolled": false
   },
   "outputs": [
    {
     "data": {
      "text/plain": [
       "TRAINING - FIELD TRAINING SQUAD          0.118\n",
       "WEST PCT 1ST W - DAVID/MARY              0.033\n",
       "WEST PCT 2ND W - D/M RELIEF              0.022\n",
       "SOUTHWEST PCT 2ND W - FRANK              0.020\n",
       "NORTH PCT 2ND WATCH - NORTH BEATS        0.020\n",
       "WEST PCT 3RD W - DAVID                   0.018\n",
       "WEST PCT 1ST W - KING/QUEEN              0.018\n",
       "WEST PCT 1ST W - KQ/DM RELIEF            0.018\n",
       "EAST PCT 3RD W - E/G RELIEF              0.017\n",
       "EAST PCT 1ST W - E/G RELIEF (CHARLIE)    0.017\n",
       "EAST PCT 3RD W - EDWARD                  0.016\n",
       "NORTH PCT 2ND W - NORA                   0.016\n",
       "WEST PCT 2ND W - KING                    0.015\n",
       "EAST PCT 2ND W - CHARLIE RELIEF          0.015\n",
       "NORTH PCT 3RD W - B/N RELIEF             0.015\n",
       "WEST PCT 3RD W - KING                    0.015\n",
       "SOUTH PCT 1ST W - R/S RELIEF             0.014\n",
       "WEST PCT 2ND W - MARY BEATS              0.014\n",
       "WEST PCT 3RD W - MARY                    0.014\n",
       "NORTH PCT 3RD W - NORA                   0.014\n",
       "WEST PCT 3RD W - QUEEN                   0.013\n",
       "NORTH PCT 1ST W - LINCOLN                0.013\n",
       "NORTH PCT 2ND W - JOHN RELIEF            0.013\n",
       "WEST PCT 2ND W - K/Q RELIEF              0.012\n",
       "NORTH PCT 3RD W - UNION                  0.012\n",
       "WEST PCT 3RD W - K/Q RELIEF              0.012\n",
       "WEST PCT 2ND W - DAVID                   0.012\n",
       "WEST PCT 3RD W - D/M RELIEF              0.012\n",
       "NORTH PCT 2ND W - JOHN                   0.012\n",
       "NORTH PCT 3RD W - BOY                    0.012\n",
       "SOUTH PCT 1ST W - SAM                    0.011\n",
       "SOUTHWEST PCT 2ND W - WILLIAM            0.011\n",
       "SOUTH PCT 2ND W - R/S RELIEF             0.011\n",
       "SOUTH PCT 3RD W - SAM                    0.011\n",
       "WEST PCT 3RD W - DAVID BEATS             0.011\n",
       "SOUTH PCT 2ND W - ROBERT                 0.011\n",
       "NORTH PCT 3RD W - L/U RELIEF             0.010\n",
       "NORTH PCT 1ST W - BOY (JOHN)             0.010\n",
       "NORTH PCT 2ND W - LINCOLN                0.010\n",
       "NORTH PCT 3RD W - JOHN RELIEF            0.010\n",
       "EAST PCT 1ST W - EDWARD (CHARLIE)        0.009\n",
       "SOUTHWEST PCT - 1ST WATCH - F/W RELIEF   0.009\n",
       "EAST PCT 2ND W - CHARLIE                 0.009\n",
       "NORTH PCT 3RD W - LINCOLN                0.009\n",
       "SOUTHWEST PCT 2ND WATCH - F/W RELIEF     0.009\n",
       "SOUTH PCT 1ST W - ROBERT                 0.009\n",
       "SOUTH PCT 2ND W - SAM                    0.009\n",
       "WEST PCT 2ND W - DAVID BEATS             0.009\n",
       "SOUTH PCT 3RD W - ROBERT                 0.008\n",
       "EAST PCT 2ND W - GEORGE                  0.008\n",
       "Name: Officer Squad, dtype: float64"
      ]
     },
     "execution_count": 65,
     "metadata": {},
     "output_type": "execute_result"
    }
   ],
   "source": [
    "# Show value distribution of officer squad\n",
    "values = df['Officer Squad'].value_counts(normalize=True)[:50]\n",
    "values"
   ]
  },
  {
   "cell_type": "code",
   "execution_count": 66,
   "metadata": {},
   "outputs": [],
   "source": [
    "# Bin values for officer squad\n",
    "df['Officer Squad'] = df['Officer Squad'].map(lambda x: x[0])"
   ]
  },
  {
   "cell_type": "code",
   "execution_count": 67,
   "metadata": {},
   "outputs": [],
   "source": [
    "# Bin officer squad for North, South, East, West, Training, Other\n",
    "values = df['Officer Squad'].value_counts(normalize=True)[:50]\n",
    "value_list = values.loc[values < .02].index\n",
    "\n",
    "for i in value_list:\n",
    "    df['Officer Squad'].replace(i, 'Other', inplace=True)"
   ]
  },
  {
   "cell_type": "code",
   "execution_count": 68,
   "metadata": {
    "scrolled": true
   },
   "outputs": [
    {
     "data": {
      "text/plain": [
       "N    41565\n",
       "Y     2631\n",
       "Name: Arrest Flag, dtype: int64"
      ]
     },
     "execution_count": 68,
     "metadata": {},
     "output_type": "execute_result"
    }
   ],
   "source": [
    "df['Arrest Flag'].value_counts()"
   ]
  },
  {
   "cell_type": "code",
   "execution_count": 69,
   "metadata": {},
   "outputs": [],
   "source": [
    "# Making it binary\n",
    "df['Arrest Flag'].replace('Y', 1.0, inplace=True)\n",
    "df['Arrest Flag'].replace('N', 0.0, inplace=True)"
   ]
  },
  {
   "cell_type": "code",
   "execution_count": 70,
   "metadata": {},
   "outputs": [
    {
     "data": {
      "text/plain": [
       "0.000    41565\n",
       "1.000     2631\n",
       "Name: Arrest Flag, dtype: int64"
      ]
     },
     "execution_count": 70,
     "metadata": {},
     "output_type": "execute_result"
    }
   ],
   "source": [
    "df['Arrest Flag'].value_counts()"
   ]
  },
  {
   "cell_type": "code",
   "execution_count": 71,
   "metadata": {
    "scrolled": true
   },
   "outputs": [
    {
     "data": {
      "text/plain": [
       "N    33929\n",
       "Y     9847\n",
       "-      420\n",
       "Name: Frisk Flag, dtype: int64"
      ]
     },
     "execution_count": 71,
     "metadata": {},
     "output_type": "execute_result"
    }
   ],
   "source": [
    "df['Frisk Flag'].value_counts()"
   ]
  },
  {
   "cell_type": "code",
   "execution_count": 72,
   "metadata": {},
   "outputs": [],
   "source": [
    "df = df[df['Frisk Flag'] != '-']"
   ]
  },
  {
   "cell_type": "code",
   "execution_count": 73,
   "metadata": {},
   "outputs": [],
   "source": [
    "# Making it binary\n",
    "df['Frisk Flag'].replace('Y', 1.0, inplace=True)\n",
    "df['Frisk Flag'].replace('N', 0.0, inplace=True)"
   ]
  },
  {
   "cell_type": "code",
   "execution_count": 74,
   "metadata": {},
   "outputs": [
    {
     "data": {
      "text/plain": [
       "0.000    33929\n",
       "1.000     9847\n",
       "Name: Frisk Flag, dtype: int64"
      ]
     },
     "execution_count": 74,
     "metadata": {},
     "output_type": "execute_result"
    }
   ],
   "source": [
    "df['Frisk Flag'].value_counts()"
   ]
  },
  {
   "cell_type": "code",
   "execution_count": 75,
   "metadata": {
    "scrolled": false
   },
   "outputs": [
    {
     "data": {
      "text/plain": [
       "West         10404\n",
       "North         9666\n",
       "-             9433\n",
       "East          5788\n",
       "South         5208\n",
       "Southwest     2238\n",
       "SouthWest      810\n",
       "Unknown        184\n",
       "OOJ             30\n",
       "FK ERROR        15\n",
       "Name: Precinct, dtype: int64"
      ]
     },
     "execution_count": 75,
     "metadata": {},
     "output_type": "execute_result"
    }
   ],
   "source": [
    "df['Precinct'].value_counts()"
   ]
  },
  {
   "cell_type": "code",
   "execution_count": 76,
   "metadata": {},
   "outputs": [
    {
     "data": {
      "text/plain": [
       "0    West\n",
       "dtype: object"
      ]
     },
     "execution_count": 76,
     "metadata": {},
     "output_type": "execute_result"
    }
   ],
   "source": [
    "df['Precinct'].mode()"
   ]
  },
  {
   "cell_type": "code",
   "execution_count": 77,
   "metadata": {
    "scrolled": true
   },
   "outputs": [
    {
     "data": {
      "text/plain": [
       "West         20036\n",
       "North         9666\n",
       "East          5788\n",
       "South         5208\n",
       "Southwest     2238\n",
       "SouthWest      810\n",
       "OOJ             30\n",
       "Name: Precinct, dtype: int64"
      ]
     },
     "execution_count": 77,
     "metadata": {},
     "output_type": "execute_result"
    }
   ],
   "source": [
    "df['Precinct'] = df['Precinct'].replace('-', 'West')\n",
    "df['Precinct'] = df['Precinct'].replace('Unknown', 'West')\n",
    "df['Precinct'] = df['Precinct'].replace('FK ERROR', 'West')\n",
    "df['Precinct'].value_counts()"
   ]
  },
  {
   "cell_type": "code",
   "execution_count": 78,
   "metadata": {},
   "outputs": [
    {
     "data": {
      "text/plain": [
       "West         20036\n",
       "North         9666\n",
       "East          5788\n",
       "South         5208\n",
       "SouthWest     3048\n",
       "OOJ             30\n",
       "Name: Precinct, dtype: int64"
      ]
     },
     "execution_count": 78,
     "metadata": {},
     "output_type": "execute_result"
    }
   ],
   "source": [
    "df['Precinct'] = df['Precinct'].replace('Southwest', 'SouthWest')\n",
    "df['Precinct'].value_counts()\n",
    "# OOJ means Out of Jurisdiction"
   ]
  },
  {
   "cell_type": "code",
   "execution_count": 79,
   "metadata": {
    "scrolled": true
   },
   "outputs": [
    {
     "data": {
      "text/plain": [
       "-         9623\n",
       "E         2262\n",
       "M         2219\n",
       "N         2131\n",
       "K         1725\n",
       "B         1631\n",
       "L         1592\n",
       "D         1486\n",
       "K         1455\n",
       "R         1410\n",
       "F         1340\n",
       "S         1310\n",
       "U         1266\n",
       "O         1117\n",
       "J         1099\n",
       "G         1060\n",
       "M         1018\n",
       "C         1006\n",
       "Q          948\n",
       "D          947\n",
       "W          897\n",
       "E          794\n",
       "Q          602\n",
       "N          572\n",
       "O          491\n",
       "F          480\n",
       "R          467\n",
       "S          414\n",
       "B          387\n",
       "G          368\n",
       "U          364\n",
       "J          333\n",
       "W          330\n",
       "C          297\n",
       "L          290\n",
       "99          45\n",
       "Name: Sector, dtype: int64"
      ]
     },
     "execution_count": 79,
     "metadata": {},
     "output_type": "execute_result"
    }
   ],
   "source": [
    "df['Sector'].value_counts()"
   ]
  },
  {
   "cell_type": "code",
   "execution_count": 80,
   "metadata": {},
   "outputs": [
    {
     "data": {
      "text/plain": [
       "0    -\n",
       "dtype: object"
      ]
     },
     "execution_count": 80,
     "metadata": {},
     "output_type": "execute_result"
    }
   ],
   "source": [
    "df['Sector'].mode()\n",
    "# The mode is a null so I think it might make sense to drop this column"
   ]
  },
  {
   "cell_type": "code",
   "execution_count": 81,
   "metadata": {},
   "outputs": [],
   "source": [
    "# Dropping this column as it won't show us reliable data as the mode is '-'\n",
    "df = df.drop(columns=['Sector'], axis=1)"
   ]
  },
  {
   "cell_type": "code",
   "execution_count": 82,
   "metadata": {},
   "outputs": [
    {
     "data": {
      "text/plain": [
       "-         9570\n",
       "N3        1140\n",
       "E2        1054\n",
       "M2         840\n",
       "K3         807\n",
       "          ... \n",
       "J2          62\n",
       "99          45\n",
       "99          27\n",
       "OOJ         20\n",
       "S            2\n",
       "Name: Beat, Length: 107, dtype: int64"
      ]
     },
     "execution_count": 82,
     "metadata": {},
     "output_type": "execute_result"
    }
   ],
   "source": [
    "# A beat is a specific territory and time that a police officer patrols\n",
    "df['Beat'].value_counts()\n",
    "# There are many null values so this is another sign of poor data reporting"
   ]
  },
  {
   "cell_type": "code",
   "execution_count": 83,
   "metadata": {},
   "outputs": [],
   "source": [
    "# How should be fill in these nulls? (It's nearly 1/4 of the data)\n",
    "# We will go ahead and drop this column \n",
    "# as it is not relevant enough to keep with the amount of nulls\n",
    "df = df.drop(columns=['Beat'], axis=1)"
   ]
  },
  {
   "cell_type": "code",
   "execution_count": 84,
   "metadata": {},
   "outputs": [
    {
     "data": {
      "text/plain": [
       "Subject Age Group           0\n",
       "Weapon Type                 0\n",
       "Officer YOB                 0\n",
       "Officer Gender              0\n",
       "Officer Race                0\n",
       "Subject Perceived Race      0\n",
       "Subject Perceived Gender    0\n",
       "Call Type                   0\n",
       "Officer Squad               0\n",
       "Arrest Flag                 0\n",
       "Frisk Flag                  0\n",
       "Precinct                    0\n",
       "Reported Day of Week        0\n",
       "Reported Year               0\n",
       "Reported Month              0\n",
       "dtype: int64"
      ]
     },
     "execution_count": 84,
     "metadata": {},
     "output_type": "execute_result"
    }
   ],
   "source": [
    "# Make sure all the nulls are gone\n",
    "df.isna().sum()"
   ]
  },
  {
   "cell_type": "code",
   "execution_count": 85,
   "metadata": {
    "scrolled": false
   },
   "outputs": [
    {
     "data": {
      "text/plain": [
       "0.000    41145\n",
       "1.000     2631\n",
       "Name: Arrest Flag, dtype: int64"
      ]
     },
     "execution_count": 85,
     "metadata": {},
     "output_type": "execute_result"
    }
   ],
   "source": [
    "# Let's make sure Arrest Flag is working as it will be our target\n",
    "df['Arrest Flag'].value_counts()"
   ]
  },
  {
   "cell_type": "code",
   "execution_count": 86,
   "metadata": {
    "scrolled": false
   },
   "outputs": [
    {
     "name": "stdout",
     "output_type": "stream",
     "text": [
      "Subject Age Group 6\n",
      "Weapon Type 4\n",
      "Officer YOB 51\n",
      "Officer Gender 2\n",
      "Officer Race 8\n",
      "Subject Perceived Race 8\n",
      "Subject Perceived Gender 2\n",
      "Call Type 3\n",
      "Officer Squad 6\n",
      "Arrest Flag 2\n",
      "Frisk Flag 2\n",
      "Precinct 6\n",
      "Reported Day of Week 7\n",
      "Reported Year 6\n",
      "Reported Month 12\n"
     ]
    }
   ],
   "source": [
    "# Function to see the amount of unique amounts in each column\n",
    "for col in df.columns:\n",
    "    print(col, df[col].nunique())"
   ]
  },
  {
   "cell_type": "code",
   "execution_count": 87,
   "metadata": {},
   "outputs": [],
   "source": [
    "# Now that we have the clean data we can make it into a new CSV\n",
    "df.to_csv('Terry_Cleaned.csv')"
   ]
  },
  {
   "cell_type": "code",
   "execution_count": 88,
   "metadata": {},
   "outputs": [
    {
     "name": "stdout",
     "output_type": "stream",
     "text": [
      "<class 'pandas.core.frame.DataFrame'>\n",
      "Int64Index: 43776 entries, 0 to 44837\n",
      "Data columns (total 55 columns):\n",
      "Officer YOB                                                         43776 non-null int64\n",
      "Officer Gender                                                      43776 non-null float64\n",
      "Subject Perceived Gender                                            43776 non-null float64\n",
      "Arrest Flag                                                         43776 non-null float64\n",
      "Frisk Flag                                                          43776 non-null float64\n",
      "Reported Year                                                       43776 non-null int64\n",
      "Reported Month                                                      43776 non-null int64\n",
      "Subject Age Group_1 - 17                                            43776 non-null uint8\n",
      "Subject Age Group_18 - 25                                           43776 non-null uint8\n",
      "Subject Age Group_26 - 35                                           43776 non-null uint8\n",
      "Subject Age Group_36 - 45                                           43776 non-null uint8\n",
      "Subject Age Group_46 - 55                                           43776 non-null uint8\n",
      "Subject Age Group_56 and Above                                      43776 non-null uint8\n",
      "Weapon Type_Firearm                                                 43776 non-null uint8\n",
      "Weapon Type_Lethal Cutting Instrument                               43776 non-null uint8\n",
      "Weapon Type_None                                                    43776 non-null uint8\n",
      "Weapon Type_Other                                                   43776 non-null uint8\n",
      "Officer Race_American Indian/Alaska Native                          43776 non-null uint8\n",
      "Officer Race_Asian                                                  43776 non-null uint8\n",
      "Officer Race_Black or African American                              43776 non-null uint8\n",
      "Officer Race_Hispanic or Latino                                     43776 non-null uint8\n",
      "Officer Race_Nat Hawaiian/Oth Pac Islander                          43776 non-null uint8\n",
      "Officer Race_Not Specified                                          43776 non-null uint8\n",
      "Officer Race_Two or More Races                                      43776 non-null uint8\n",
      "Officer Race_White                                                  43776 non-null uint8\n",
      "Subject Perceived Race_American Indian or Alaska Native             43776 non-null uint8\n",
      "Subject Perceived Race_Asian                                        43776 non-null uint8\n",
      "Subject Perceived Race_Black or African American                    43776 non-null uint8\n",
      "Subject Perceived Race_Hispanic                                     43776 non-null uint8\n",
      "Subject Perceived Race_Multi-Racial                                 43776 non-null uint8\n",
      "Subject Perceived Race_Native Hawaiian or Other Pacific Islander    43776 non-null uint8\n",
      "Subject Perceived Race_Unknown                                      43776 non-null uint8\n",
      "Subject Perceived Race_White                                        43776 non-null uint8\n",
      "Call Type_911                                                       43776 non-null uint8\n",
      "Call Type_ONVIEW                                                    43776 non-null uint8\n",
      "Call Type_Other                                                     43776 non-null uint8\n",
      "Officer Squad_E                                                     43776 non-null uint8\n",
      "Officer Squad_N                                                     43776 non-null uint8\n",
      "Officer Squad_Other                                                 43776 non-null uint8\n",
      "Officer Squad_S                                                     43776 non-null uint8\n",
      "Officer Squad_T                                                     43776 non-null uint8\n",
      "Officer Squad_W                                                     43776 non-null uint8\n",
      "Precinct_East                                                       43776 non-null uint8\n",
      "Precinct_North                                                      43776 non-null uint8\n",
      "Precinct_OOJ                                                        43776 non-null uint8\n",
      "Precinct_South                                                      43776 non-null uint8\n",
      "Precinct_SouthWest                                                  43776 non-null uint8\n",
      "Precinct_West                                                       43776 non-null uint8\n",
      "Reported Day of Week_Friday                                         43776 non-null uint8\n",
      "Reported Day of Week_Monday                                         43776 non-null uint8\n",
      "Reported Day of Week_Saturday                                       43776 non-null uint8\n",
      "Reported Day of Week_Sunday                                         43776 non-null uint8\n",
      "Reported Day of Week_Thursday                                       43776 non-null uint8\n",
      "Reported Day of Week_Tuesday                                        43776 non-null uint8\n",
      "Reported Day of Week_Wednesday                                      43776 non-null uint8\n",
      "dtypes: float64(4), int64(3), uint8(48)\n",
      "memory usage: 4.7 MB\n"
     ]
    }
   ],
   "source": [
    "# We will make dummies now so that we can proceed making a model\n",
    "df = pd.get_dummies(df)\n",
    "df.info()"
   ]
  },
  {
   "cell_type": "code",
   "execution_count": 89,
   "metadata": {},
   "outputs": [],
   "source": [
    "# We will make a different csv for the dummies dataframe\n",
    "df.to_csv('Terry_Cleaned_Dummies.csv')"
   ]
  }
 ],
 "metadata": {
  "kernelspec": {
   "display_name": "Python 3",
   "language": "python",
   "name": "python3"
  },
  "language_info": {
   "codemirror_mode": {
    "name": "ipython",
    "version": 3
   },
   "file_extension": ".py",
   "mimetype": "text/x-python",
   "name": "python",
   "nbconvert_exporter": "python",
   "pygments_lexer": "ipython3",
   "version": "3.6.9"
  },
  "toc": {
   "base_numbering": 1,
   "nav_menu": {},
   "number_sections": true,
   "sideBar": true,
   "skip_h1_title": false,
   "title_cell": "Table of Contents",
   "title_sidebar": "Contents",
   "toc_cell": false,
   "toc_position": {},
   "toc_section_display": true,
   "toc_window_display": false
  }
 },
 "nbformat": 4,
 "nbformat_minor": 2
}
